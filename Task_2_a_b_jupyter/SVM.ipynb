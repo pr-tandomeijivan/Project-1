{
 "cells": [
  {
   "cell_type": "markdown",
   "metadata": {},
   "source": [
    "# Assignment 2a\n",
    "CSV MNIST train and test datasets need to be put into the same folder as this notebook. Executing everything takes around 6 hours on an Intel i7 8*** CPU using all cores. Best parameters are as follows:\n",
    "{'C': 10, 'gamma': 0.01, 'kernel': 'rbf'}\n",
    "\n",
    "Additional information is shown below."
   ]
  },
  {
   "cell_type": "markdown",
   "metadata": {},
   "source": [
    "## Preparing the data"
   ]
  },
  {
   "cell_type": "code",
   "execution_count": 1,
   "metadata": {},
   "outputs": [],
   "source": [
    "import csv\n",
    "import numpy as np  \n",
    "import matplotlib.pyplot as plt  \n",
    "from sklearn import svm\n",
    "from sklearn.model_selection import GridSearchCV\n",
    "%matplotlib inline\n",
    "\n",
    "with open('mnist_train.csv', 'r') as f:\n",
    "    reader = csv.reader(f)\n",
    "    train_data = list(reader)\n",
    "    matrix = np.array(train_data, dtype = int)\n",
    "    train_samples = matrix[:,1:]/255.0\n",
    "    train_labels = matrix[:,0]\n",
    "\n",
    "with open('mnist_test.csv', 'r') as f:\n",
    "    reader = csv.reader(f)\n",
    "    test_data = list(reader)\n",
    "    matrix = np.array(test_data, dtype = int)\n",
    "    test_samples = matrix[:,1:]/255.0\n",
    "    test_labels = matrix[:,0]"
   ]
  },
  {
   "cell_type": "markdown",
   "metadata": {},
   "source": [
    "## Hyperparameter search\n",
    "Hyperparameter search is done using 3-fold crossvalidation"
   ]
  },
  {
   "cell_type": "code",
   "execution_count": 3,
   "metadata": {},
   "outputs": [],
   "source": [
    "parameters = {'kernel': ['linear','rbf'], 'C': [1, 10], 'gamma': [0.1,0.01]}\n",
    "clf = GridSearchCV(svm.SVC(), parameters, cv=3, scoring='accuracy', n_jobs=-1)\n",
    "clf.fit(train_samples, train_labels)\n",
    "\n",
    "best_model = clf.best_estimator_\n",
    "results = best_model.predict(test_samples)"
   ]
  },
  {
   "cell_type": "markdown",
   "metadata": {},
   "source": [
    "## Showing all results\n",
    "clf.cv_results_ shows all results using cross validation on the trainigset. It is kind of a mess to look at and can actually be ignored, as we show the relevant results further below in a more readable format."
   ]
  },
  {
   "cell_type": "code",
   "execution_count": 4,
   "metadata": {},
   "outputs": [
    {
     "name": "stderr",
     "output_type": "stream",
     "text": [
      "C:\\Users\\selin\\Anaconda3\\lib\\site-packages\\sklearn\\utils\\deprecation.py:125: FutureWarning: You are accessing a training score ('split0_train_score'), which will not be available by default any more in 0.21. If you need training scores, please set return_train_score=True\n",
      "  warnings.warn(*warn_args, **warn_kwargs)\n",
      "C:\\Users\\selin\\Anaconda3\\lib\\site-packages\\sklearn\\utils\\deprecation.py:125: FutureWarning: You are accessing a training score ('split1_train_score'), which will not be available by default any more in 0.21. If you need training scores, please set return_train_score=True\n",
      "  warnings.warn(*warn_args, **warn_kwargs)\n",
      "C:\\Users\\selin\\Anaconda3\\lib\\site-packages\\sklearn\\utils\\deprecation.py:125: FutureWarning: You are accessing a training score ('split2_train_score'), which will not be available by default any more in 0.21. If you need training scores, please set return_train_score=True\n",
      "  warnings.warn(*warn_args, **warn_kwargs)\n",
      "C:\\Users\\selin\\Anaconda3\\lib\\site-packages\\sklearn\\utils\\deprecation.py:125: FutureWarning: You are accessing a training score ('mean_train_score'), which will not be available by default any more in 0.21. If you need training scores, please set return_train_score=True\n",
      "  warnings.warn(*warn_args, **warn_kwargs)\n",
      "C:\\Users\\selin\\Anaconda3\\lib\\site-packages\\sklearn\\utils\\deprecation.py:125: FutureWarning: You are accessing a training score ('std_train_score'), which will not be available by default any more in 0.21. If you need training scores, please set return_train_score=True\n",
      "  warnings.warn(*warn_args, **warn_kwargs)\n"
     ]
    },
    {
     "data": {
      "text/plain": [
       "{'mean_fit_time': array([ 884.43778531, 8967.15523338,  885.05037411,  998.03906115,\n",
       "         973.94807156, 7582.56523538,  987.38762164,  787.05779346]),\n",
       " 'std_fit_time': array([ 9.63133871, 23.1780022 , 13.19175133,  1.58089988, 12.48418733,\n",
       "         9.38310845, 13.00016272,  2.94522102]),\n",
       " 'mean_score_time': array([ 595.60478997, 1187.05614734,  593.87142563,  836.64018623,\n",
       "         568.35738015, 1140.42252437,  577.28883465,  560.30791203]),\n",
       " 'std_score_time': array([ 5.18890567,  1.8795788 , 11.59679576,  2.20042998,  5.69705192,\n",
       "         2.57291474,  5.30423224,  6.67052826]),\n",
       " 'param_C': masked_array(data=[1, 1, 1, 1, 10, 10, 10, 10],\n",
       "              mask=[False, False, False, False, False, False, False, False],\n",
       "        fill_value='?',\n",
       "             dtype=object),\n",
       " 'param_gamma': masked_array(data=[0.1, 0.1, 0.01, 0.01, 0.1, 0.1, 0.01, 0.01],\n",
       "              mask=[False, False, False, False, False, False, False, False],\n",
       "        fill_value='?',\n",
       "             dtype=object),\n",
       " 'param_kernel': masked_array(data=['linear', 'rbf', 'linear', 'rbf', 'linear', 'rbf',\n",
       "                    'linear', 'rbf'],\n",
       "              mask=[False, False, False, False, False, False, False, False],\n",
       "        fill_value='?',\n",
       "             dtype=object),\n",
       " 'params': [{'C': 1, 'gamma': 0.1, 'kernel': 'linear'},\n",
       "  {'C': 1, 'gamma': 0.1, 'kernel': 'rbf'},\n",
       "  {'C': 1, 'gamma': 0.01, 'kernel': 'linear'},\n",
       "  {'C': 1, 'gamma': 0.01, 'kernel': 'rbf'},\n",
       "  {'C': 10, 'gamma': 0.1, 'kernel': 'linear'},\n",
       "  {'C': 10, 'gamma': 0.1, 'kernel': 'rbf'},\n",
       "  {'C': 10, 'gamma': 0.01, 'kernel': 'linear'},\n",
       "  {'C': 10, 'gamma': 0.01, 'kernel': 'rbf'}],\n",
       " 'split0_test_score': array([0.93176365, 0.93581284, 0.93176365, 0.97370526, 0.91821636,\n",
       "        0.93826235, 0.91821636, 0.98130374]),\n",
       " 'split1_test_score': array([0.93099655, 0.9360968 , 0.93099655, 0.97044852, 0.92029601,\n",
       "        0.93884694, 0.92029601, 0.9779489 ]),\n",
       " 'split2_test_score': array([0.93298995, 0.94219133, 0.93298995, 0.9713457 , 0.92233835,\n",
       "        0.94509176, 0.92233835, 0.9786468 ]),\n",
       " 'mean_test_score': array([0.93191667, 0.93803333, 0.93191667, 0.97183333, 0.92028333,\n",
       "        0.94073333, 0.92028333, 0.9793    ]),\n",
       " 'std_test_score': array([0.00082092, 0.0029421 , 0.00082092, 0.00137358, 0.00168284,\n",
       "        0.00309076, 0.00168284, 0.00144543]),\n",
       " 'rank_test_score': array([5, 4, 5, 2, 7, 3, 7, 1]),\n",
       " 'split0_train_score': array([0.97617262, 0.99987499, 0.97617262, 0.98347335, 0.98744874,\n",
       "        1.        , 0.98744874, 0.99967497]),\n",
       " 'split1_train_score': array([0.97620059, 0.9999    , 0.97620059, 0.98440039, 0.98767531,\n",
       "        1.        , 0.98767531, 0.99955001]),\n",
       " 'split2_train_score': array([0.97642677, 0.99992501, 0.97642677, 0.98452616, 0.98820088,\n",
       "        1.        , 0.98820088, 0.99960003]),\n",
       " 'mean_train_score': array([0.97626666, 0.9999    , 0.97626666, 0.9841333 , 0.98777498,\n",
       "        1.        , 0.98777498, 0.99960834]),\n",
       " 'std_train_score': array([1.13788096e-04, 2.04198146e-05, 1.13788096e-04, 4.69472749e-04,\n",
       "        3.15044364e-04, 0.00000000e+00, 3.15044364e-04, 5.13501786e-05])}"
      ]
     },
     "execution_count": 4,
     "metadata": {},
     "output_type": "execute_result"
    }
   ],
   "source": [
    "clf.cv_results_"
   ]
  },
  {
   "cell_type": "markdown",
   "metadata": {},
   "source": [
    "## Best Parameters\n",
    "Here we can see the accuracy of the best model applied to the test set."
   ]
  },
  {
   "cell_type": "code",
   "execution_count": 5,
   "metadata": {},
   "outputs": [
    {
     "name": "stdout",
     "output_type": "stream",
     "text": [
      "Best Parameters:\n",
      "{'C': 10, 'gamma': 0.01, 'kernel': 'rbf'}\n",
      "Accuracy:\n",
      "0.9833\n"
     ]
    }
   ],
   "source": [
    "print('Best Parameters:')\n",
    "print(clf.best_params_)\n",
    "print('Accuracy:')\n",
    "print(np.sum(results == test_labels)/len(test_labels))"
   ]
  },
  {
   "cell_type": "markdown",
   "metadata": {},
   "source": [
    "## Accuracy for each parameter choice\n",
    "Here we can see the performance of each parameterchoice when doing crossvalidation on the trainingset."
   ]
  },
  {
   "cell_type": "code",
   "execution_count": 7,
   "metadata": {},
   "outputs": [
    {
     "name": "stdout",
     "output_type": "stream",
     "text": [
      "Parameters:\n",
      "{'C': 1, 'gamma': 0.1, 'kernel': 'linear'}\n",
      "Accuracy:\n",
      "0.9319166666666666\n",
      "---\n",
      "Parameters:\n",
      "{'C': 1, 'gamma': 0.1, 'kernel': 'rbf'}\n",
      "Accuracy:\n",
      "0.9380333333333334\n",
      "---\n",
      "Parameters:\n",
      "{'C': 1, 'gamma': 0.01, 'kernel': 'linear'}\n",
      "Accuracy:\n",
      "0.9319166666666666\n",
      "---\n",
      "Parameters:\n",
      "{'C': 1, 'gamma': 0.01, 'kernel': 'rbf'}\n",
      "Accuracy:\n",
      "0.9718333333333333\n",
      "---\n",
      "Parameters:\n",
      "{'C': 10, 'gamma': 0.1, 'kernel': 'linear'}\n",
      "Accuracy:\n",
      "0.9202833333333333\n",
      "---\n",
      "Parameters:\n",
      "{'C': 10, 'gamma': 0.1, 'kernel': 'rbf'}\n",
      "Accuracy:\n",
      "0.9407333333333333\n",
      "---\n",
      "Parameters:\n",
      "{'C': 10, 'gamma': 0.01, 'kernel': 'linear'}\n",
      "Accuracy:\n",
      "0.9202833333333333\n",
      "---\n",
      "Parameters:\n",
      "{'C': 10, 'gamma': 0.01, 'kernel': 'rbf'}\n",
      "Accuracy:\n",
      "0.9793\n",
      "---\n"
     ]
    }
   ],
   "source": [
    "params = means = clf.cv_results_['params']\n",
    "means = clf.cv_results_['mean_test_score']\n",
    "for i in range(len(params)):\n",
    "    print('Parameters:')\n",
    "    print(params[i])\n",
    "    print('Accuracy:')\n",
    "    print(means[i])\n",
    "    print('---')"
   ]
  }
 ],
 "metadata": {
  "kernelspec": {
   "display_name": "Python 3",
   "language": "python",
   "name": "python3"
  },
  "language_info": {
   "codemirror_mode": {
    "name": "ipython",
    "version": 3
   },
   "file_extension": ".py",
   "mimetype": "text/x-python",
   "name": "python",
   "nbconvert_exporter": "python",
   "pygments_lexer": "ipython3",
   "version": "3.7.1"
  }
 },
 "nbformat": 4,
 "nbformat_minor": 2
}
