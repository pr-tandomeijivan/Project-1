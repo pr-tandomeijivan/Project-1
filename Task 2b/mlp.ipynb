{
 "cells": [
  {
   "cell_type": "markdown",
   "metadata": {},
   "source": [
    "#### Import torch and set train parameters"
   ]
  },
  {
   "cell_type": "code",
   "execution_count": 40,
   "metadata": {},
   "outputs": [
    {
     "data": {
      "text/plain": [
       "<torch._C.Generator at 0x7f2da80f1790>"
      ]
     },
     "execution_count": 40,
     "metadata": {},
     "output_type": "execute_result"
    }
   ],
   "source": [
    "import torch\n",
    "n_epochs = 3\n",
    "batch_size_train = 64\n",
    "batch_size_test = 64\n",
    "learning_rate = 0.001\n",
    "\n",
    "random_seed = 1\n",
    "torch.manual_seed(random_seed)"
   ]
  },
  {
   "cell_type": "markdown",
   "metadata": {},
   "source": [
    "#### Check pytorch, import the dataset for train and test parts"
   ]
  },
  {
   "cell_type": "code",
   "execution_count": 54,
   "metadata": {},
   "outputs": [
    {
     "name": "stdout",
     "output_type": "stream",
     "text": [
      "tensor([[1.4054e-01, 8.9186e-04, 8.9436e-02],\n",
      "        [4.7699e-01, 5.9074e-02, 9.7135e-01],\n",
      "        [7.1100e-01, 1.4182e-01, 5.1684e-02],\n",
      "        [3.7895e-01, 3.3987e-01, 4.1600e-01],\n",
      "        [9.0070e-01, 8.8610e-01, 6.5652e-01]])\n",
      "cpu\n"
     ]
    }
   ],
   "source": [
    "import numpy as np\n",
    "import matplotlib.image as mpimg\n",
    "import torch\n",
    "from torchvision import datasets, transforms\n",
    "from torch.utils.data import DataLoader\n",
    "import torch.nn as nn\n",
    "import torch.nn.functional as F\n",
    "x = torch.rand(5, 3)\n",
    "print(x)\n",
    "device = torch.device('cuda') if torch.cuda.is_available() else torch.device('cpu')\n",
    "print(device)\n",
    "\n",
    "from torchvision.transforms import Compose, ToTensor, Normalize\n",
    "use_cuda = False\n",
    "kwargs = {'num_workers': 1, 'pin_memory': True} if use_cuda else {}\n",
    "train_loader = torch.utils.data.DataLoader(\n",
    "  datasets.MNIST('./data', train=True, download=True,\n",
    "                             transform=transforms.Compose([\n",
    "                               transforms.ToTensor(),\n",
    "                               transforms.Normalize(\n",
    "                                 (0.1307,), (0.3081,))\n",
    "                             ])),\n",
    "  batch_size=batch_size_train, shuffle=True, num_workers=8)\n",
    "\n",
    "test_loader = torch.utils.data.DataLoader(\n",
    "  datasets.MNIST('./data', train=False, download=True,\n",
    "                             transform=transforms.Compose([\n",
    "                               transforms.ToTensor(),\n",
    "                               transforms.Normalize(\n",
    "                                 (0.1307,), (0.3081,))\n",
    "                             ])),\n",
    "  batch_size=batch_size_test, shuffle=True, num_workers=8)\n",
    "%matplotlib inline"
   ]
  },
  {
   "cell_type": "markdown",
   "metadata": {},
   "source": [
    "#### Check the input size of single dataset entry"
   ]
  },
  {
   "cell_type": "code",
   "execution_count": 43,
   "metadata": {},
   "outputs": [
    {
     "data": {
      "text/plain": [
       "torch.Size([64, 1, 28, 28])"
      ]
     },
     "execution_count": 43,
     "metadata": {},
     "output_type": "execute_result"
    }
   ],
   "source": [
    "examples = enumerate(test_loader)\n",
    "batch_idx, (example_data, example_targets) = next(examples)\n",
    "example_data.shape"
   ]
  },
  {
   "cell_type": "markdown",
   "metadata": {},
   "source": [
    "#### Defining a model \n",
    "#### The model has one hidden layer with two activation functions. Because it's a classification task we set 10 as a desired predicted number"
   ]
  },
  {
   "cell_type": "code",
   "execution_count": 44,
   "metadata": {},
   "outputs": [],
   "source": [
    "class MLPModel(nn.Module):\n",
    "    def __init__(self, initial_size):\n",
    "        super(MLPModel, self).__init__()\n",
    "        self.initial_size = initial_size\n",
    "        self.adv = nn.Sequential(\n",
    "            nn.Linear(self.initial_size, 512),\n",
    "            nn.ReLU(),\n",
    "            nn.Linear(512, 256),\n",
    "            nn.SELU(),\n",
    "            nn.Linear(256, 10),\n",
    "        )\n",
    "        \n",
    "    def forward(self, xb):\n",
    "        x = xb.view(xb.size(0), self.initial_size) # flatten the input\n",
    "        return self.adv(x)"
   ]
  },
  {
   "cell_type": "code",
   "execution_count": 55,
   "metadata": {},
   "outputs": [],
   "source": [
    "model = MLPModel(28*28)\n",
    "model = model.to(device)\n",
    "optimizer = torch.optim.Adam(model.parameters(), lr=learning_rate)\n",
    "loss_fn = nn.CrossEntropyLoss()"
   ]
  },
  {
   "cell_type": "code",
   "execution_count": 56,
   "metadata": {},
   "outputs": [],
   "source": [
    "def train(model, train_dataloader, optimizer, n_epochs, loss_fn):\n",
    "    # We will monitor loss functions as the training progresses\n",
    "    train_losses = []\n",
    "    train_accuracies = []\n",
    "    for epoch in range(n_epochs):\n",
    "        \n",
    "        model.train()\n",
    "        \n",
    "        losses = []\n",
    "        for batch_idx, (images, labels) in enumerate(train_dataloader):\n",
    "            images = images.to(device)\n",
    "            labels = labels.to(labels)\n",
    "            output = model(images)\n",
    "            # set gradients to zero\n",
    "            optimizer.zero_grad()\n",
    "            \n",
    "            loss = loss_fn(output, labels)\n",
    "            loss.backward()\n",
    "            optimizer.step()\n",
    "\n",
    "            # Metrics\n",
    "            losses.append(loss.item())\n",
    "            predicted_labels = output\n",
    "            predicted_labels = predicted_labels.type(torch.FloatTensor)\n",
    "                        \n",
    "        train_losses.append(np.mean(np.array(losses)))\n",
    "        dataset_length = len(train_dataloader.dataset)\n",
    "        print('train losses: {}'.format(train_losses[len(train_losses)-1]))\n",
    "        \n",
    "    return train_losses"
   ]
  },
  {
   "cell_type": "code",
   "execution_count": 57,
   "metadata": {},
   "outputs": [],
   "source": [
    "def test(model, test_dataloader, optimizer, n_epochs, loss_fn):\n",
    "    # We will monitor loss functions as the training progresses\n",
    "    test_losses = []\n",
    "    train_accuracies = []\n",
    "    losses = []\n",
    "    model.eval()\n",
    "    print('Evaluation')\n",
    "    with torch.no_grad():\n",
    "        for batch_idx, (images, labels) in enumerate(test_dataloader):\n",
    "            images = images.to(device)\n",
    "            labels = labels.to(labels)\n",
    "            output = model(images)\n",
    "            loss = loss_fn(output, labels)\n",
    "            losses.append(loss.item())\n",
    "            predicted_labels = output\n",
    "            predicted_labels = predicted_labels.type(torch.FloatTensor)\n",
    "\n",
    "        test_losses.append(np.mean(np.array(losses)))\n",
    "        print('test loss: {}'.format(test_losses[len(test_losses) - 1]))\n",
    "\n",
    "    return test_losses"
   ]
  },
  {
   "cell_type": "code",
   "execution_count": 48,
   "metadata": {},
   "outputs": [
    {
     "name": "stdout",
     "output_type": "stream",
     "text": [
      "train losses: 0.1942174430174042\n",
      "train losses: 0.08878137598604535\n",
      "train losses: 0.06238011767599247\n",
      "train losses: 0.04830474668204276\n",
      "train losses: 0.04046255635665551\n",
      "train losses: 0.03826640228798458\n",
      "train losses: 0.026784991400677766\n",
      "train losses: 0.028742385730306224\n",
      "train losses: 0.02306360038898901\n",
      "train losses: 0.023797197716195446\n",
      "train losses: 0.02333222370920405\n",
      "train losses: 0.021249855755329894\n",
      "train losses: 0.018543206905918336\n",
      "train losses: 0.017245778706726996\n",
      "train losses: 0.017793867744997874\n",
      "train losses: 0.01809706180684094\n",
      "train losses: 0.014583869938498367\n",
      "train losses: 0.01355844690029555\n",
      "train losses: 0.0167640475576112\n",
      "train losses: 0.01632936537138689\n"
     ]
    },
    {
     "data": {
      "text/plain": [
       "[0.1942174430174042,\n",
       " 0.08878137598604535,\n",
       " 0.06238011767599247,\n",
       " 0.04830474668204276,\n",
       " 0.04046255635665551,\n",
       " 0.03826640228798458,\n",
       " 0.026784991400677766,\n",
       " 0.028742385730306224,\n",
       " 0.02306360038898901,\n",
       " 0.023797197716195446,\n",
       " 0.02333222370920405,\n",
       " 0.021249855755329894,\n",
       " 0.018543206905918336,\n",
       " 0.017245778706726996,\n",
       " 0.017793867744997874,\n",
       " 0.01809706180684094,\n",
       " 0.014583869938498367,\n",
       " 0.01355844690029555,\n",
       " 0.0167640475576112,\n",
       " 0.01632936537138689]"
      ]
     },
     "execution_count": 48,
     "metadata": {},
     "output_type": "execute_result"
    }
   ],
   "source": [
    "n_epochs = 20\n",
    "train(model, train_loader, optimizer, n_epochs, loss_fn)"
   ]
  },
  {
   "cell_type": "code",
   "execution_count": 49,
   "metadata": {},
   "outputs": [
    {
     "name": "stdout",
     "output_type": "stream",
     "text": [
      "Evaluation\n",
      "test loss: 0.14274695036327764\n"
     ]
    }
   ],
   "source": [
    "test_loss = test(model, test_loader, optimizer, n_epochs, loss_fn)"
   ]
  },
  {
   "cell_type": "markdown",
   "metadata": {},
   "source": [
    "## Comparing the train loss with test loss we can estimate, that the model is overfitting, i.e. it learned well on the train set, but fails to give similar results on a train set. The best way to avoid this problem is to improve the model."
   ]
  },
  {
   "cell_type": "code",
   "execution_count": null,
   "metadata": {},
   "outputs": [],
   "source": []
  }
 ],
 "metadata": {
  "kernelspec": {
   "display_name": "Python 3",
   "language": "python",
   "name": "python3"
  },
  "language_info": {
   "codemirror_mode": {
    "name": "ipython",
    "version": 3
   },
   "file_extension": ".py",
   "mimetype": "text/x-python",
   "name": "python",
   "nbconvert_exporter": "python",
   "pygments_lexer": "ipython3",
   "version": "3.7.1"
  }
 },
 "nbformat": 4,
 "nbformat_minor": 2
}
